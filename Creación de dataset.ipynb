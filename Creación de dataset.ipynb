{
 "cells": [
  {
   "cell_type": "code",
   "execution_count": 2,
   "id": "4645ff44",
   "metadata": {},
   "outputs": [],
   "source": [
    "from datasets import Dataset\n",
    "import json\n",
    "from huggingface_hub import HfApi"
   ]
  },
  {
   "cell_type": "code",
   "execution_count": 13,
   "id": "0c278a45",
   "metadata": {},
   "outputs": [
    {
     "name": "stdout",
     "output_type": "stream",
     "text": [
      "✅ Archivo encontrado: spanish-accent-dataset.json\n",
      "📄 Tamaño del archivo: 450757 bytes\n",
      "✅ JSON cargado correctamente\n",
      "📊 Número de ejemplos: 1010\n",
      "🔍 Primer ejemplo:\n",
      "   🧠 Instrucción: ¿Qué es un Tyrannosaurus Rex?\n",
      "   📝 Entrada: \n",
      "   🎯 Respuesta: ¡Hola chaval! El Tyrannosaurus Rex era como el mat...\n",
      "🚀 Dataset creado: Dataset({\n",
      "    features: ['instruction', 'input', 'output'],\n",
      "    num_rows: 1010\n",
      "})\n"
     ]
    }
   ],
   "source": [
    "import json\n",
    "from datasets import Dataset\n",
    "import os\n",
    "\n",
    "file_path = \"spanish-accent-dataset.json\"\n",
    "\n",
    "# Verificar archivo\n",
    "if not os.path.exists(file_path):\n",
    "    print(f\"❌ El archivo {file_path} no existe\")\n",
    "    print(\"Asegúrate de guardarlo desde el artifact\")\n",
    "else:\n",
    "    print(f\"✅ Archivo encontrado: {file_path}\")\n",
    "    \n",
    "    # Verificar tamaño\n",
    "    size = os.path.getsize(file_path)\n",
    "    print(f\"📄 Tamaño del archivo: {size} bytes\")\n",
    "    \n",
    "    if size == 0:\n",
    "        print(\"❌ El archivo está vacío\")\n",
    "    else:\n",
    "        try:\n",
    "            # Cargar JSON\n",
    "            with open(file_path, \"r\", encoding=\"utf-8\") as f:\n",
    "                data = json.load(f)\n",
    "            \n",
    "            print(f\"✅ JSON cargado correctamente\")\n",
    "            print(f\"📊 Número de ejemplos: {len(data)}\")\n",
    "            print(\"🔍 Primer ejemplo:\")\n",
    "            print(f\"   🧠 Instrucción: {data[0]['instruction']}\")\n",
    "            print(f\"   📝 Entrada: {data[0]['input']}\")\n",
    "            print(f\"   🎯 Respuesta: {data[0]['output'][:50]}...\")\n",
    "\n",
    "            # Crear dataset\n",
    "            dataset = Dataset.from_list(data)\n",
    "            print(f\"🚀 Dataset creado: {dataset}\")\n",
    "            \n",
    "        except json.JSONDecodeError as e:\n",
    "            print(f\"❌ Error JSON: {e}\")\n",
    "            print(\"🔧 Revisa que el archivo tenga formato JSON válido\")\n",
    "        except Exception as e:\n",
    "            print(f\"❌ Error: {e}\")\n"
   ]
  },
  {
   "cell_type": "code",
   "execution_count": 8,
   "id": "b498ebb9",
   "metadata": {},
   "outputs": [
    {
     "data": {
      "application/vnd.jupyter.widget-view+json": {
       "model_id": "95cfdc35606c4fe19179e6f270077c38",
       "version_major": 2,
       "version_minor": 0
      },
      "text/plain": [
       "VBox(children=(HTML(value='<center> <img\\nsrc=https://huggingface.co/front/assets/huggingface_logo-noborder.sv…"
      ]
     },
     "metadata": {},
     "output_type": "display_data"
    },
    {
     "name": "stderr",
     "output_type": "stream",
     "text": [
      "Note: Environment variable`HF_TOKEN` is set and is the current active token independently from the token you've just configured.\n"
     ]
    }
   ],
   "source": [
    "from huggingface_hub import notebook_login\n",
    "notebook_login() "
   ]
  },
  {
   "cell_type": "code",
   "execution_count": null,
   "id": "ec4011a4",
   "metadata": {},
   "outputs": [
    {
     "data": {
      "application/vnd.jupyter.widget-view+json": {
       "model_id": "01242b7754b541e385bf0825aa91e10a",
       "version_major": 2,
       "version_minor": 0
      },
      "text/plain": [
       "Uploading the dataset shards:   0%|          | 0/1 [00:00<?, ?it/s]"
      ]
     },
     "metadata": {},
     "output_type": "display_data"
    },
    {
     "data": {
      "application/vnd.jupyter.widget-view+json": {
       "model_id": "f1942d70ef744a96af7593621a6b3bea",
       "version_major": 2,
       "version_minor": 0
      },
      "text/plain": [
       "Creating parquet from Arrow format:   0%|          | 0/2 [00:00<?, ?ba/s]"
      ]
     },
     "metadata": {},
     "output_type": "display_data"
    },
    {
     "name": "stdout",
     "output_type": "stream",
     "text": [
      "¡Dataset subido con éxito!\n"
     ]
    }
   ],
   "source": [
    "dataset.push_to_hub(\"leonidasmv/spanish-accent-dataset\")\n",
    "print(\"¡Dataset subido con éxito!\")"
   ]
  }
 ],
 "metadata": {
  "kernelspec": {
   "display_name": "env",
   "language": "python",
   "name": "python3"
  },
  "language_info": {
   "codemirror_mode": {
    "name": "ipython",
    "version": 3
   },
   "file_extension": ".py",
   "mimetype": "text/x-python",
   "name": "python",
   "nbconvert_exporter": "python",
   "pygments_lexer": "ipython3",
   "version": "3.11.9"
  }
 },
 "nbformat": 4,
 "nbformat_minor": 5
}
