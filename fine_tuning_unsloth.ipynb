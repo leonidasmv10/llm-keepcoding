{
 "cells": [
  {
   "cell_type": "code",
   "execution_count": null,
   "id": "1aaedbca",
   "metadata": {},
   "outputs": [],
   "source": [
    "# 1. Instalar Unsloth\n",
    "!pip install \"unsloth[colab-new] @ git+https://github.com/unslothai/unsloth.git\"\n",
    "!pip install --no-deps \"xformers<0.0.27\" trl peft accelerate bitsandbytes"
   ]
  }
 ],
 "metadata": {
  "language_info": {
   "name": "python"
  }
 },
 "nbformat": 4,
 "nbformat_minor": 5
}
