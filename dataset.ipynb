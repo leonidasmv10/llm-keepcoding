{
 "cells": [
  {
   "cell_type": "code",
   "execution_count": 1,
   "id": "4645ff44",
   "metadata": {},
   "outputs": [],
   "source": [
    "from datasets import Dataset\n",
    "import json\n",
    "from huggingface_hub import HfApi"
   ]
  },
  {
   "cell_type": "code",
   "execution_count": 2,
   "id": "0c278a45",
   "metadata": {},
   "outputs": [
    {
     "name": "stdout",
     "output_type": "stream",
     "text": [
      "✅ Archivo encontrado: es-prehistoric-animals-tutor-dataset.json\n",
      "📄 Tamaño del archivo: 130624 bytes\n",
      "✅ JSON cargado correctamente\n",
      "📊 Número de ejemplos: 278\n",
      "🔍 Primer ejemplo: ¿Qué es un Tyrannosaurus Rex?...\n",
      "🚀 Dataset creado: Dataset({\n",
      "    features: ['messages'],\n",
      "    num_rows: 278\n",
      "})\n"
     ]
    }
   ],
   "source": [
    "import json\n",
    "from datasets import Dataset\n",
    "\n",
    "# Verificar si el archivo existe y tiene contenido\n",
    "import os\n",
    "\n",
    "file_path = \"es-prehistoric-animals-tutor-dataset.json\"\n",
    "\n",
    "# Verificar archivo\n",
    "if not os.path.exists(file_path):\n",
    "    print(f\"❌ El archivo {file_path} no existe\")\n",
    "    print(\"Asegúrate de guardarlo desde el artifact\")\n",
    "else:\n",
    "    print(f\"✅ Archivo encontrado: {file_path}\")\n",
    "    \n",
    "    # Verificar tamaño\n",
    "    size = os.path.getsize(file_path)\n",
    "    print(f\"📄 Tamaño del archivo: {size} bytes\")\n",
    "    \n",
    "    if size == 0:\n",
    "        print(\"❌ El archivo está vacío\")\n",
    "    else:\n",
    "        try:\n",
    "            # Cargar JSON\n",
    "            with open(file_path, \"r\", encoding=\"utf-8\") as f:\n",
    "                data = json.load(f)\n",
    "            \n",
    "            print(f\"✅ JSON cargado correctamente\")\n",
    "            print(f\"📊 Número de ejemplos: {len(data)}\")\n",
    "            print(f\"🔍 Primer ejemplo: {data[0]['messages'][0]['content'][:50]}...\")\n",
    "            \n",
    "            # Crear dataset\n",
    "            dataset = Dataset.from_list(data)\n",
    "            print(f\"🚀 Dataset creado: {dataset}\")\n",
    "            \n",
    "        except json.JSONDecodeError as e:\n",
    "            print(f\"❌ Error JSON: {e}\")\n",
    "            print(\"🔧 Revisa que el archivo tenga formato JSON válido\")\n",
    "        except Exception as e:\n",
    "            print(f\"❌ Error: {e}\")"
   ]
  },
  {
   "cell_type": "code",
   "execution_count": 3,
   "id": "b498ebb9",
   "metadata": {},
   "outputs": [
    {
     "data": {
      "application/vnd.jupyter.widget-view+json": {
       "model_id": "2dfe5c7a0c8648d1af50c63563cf0f61",
       "version_major": 2,
       "version_minor": 0
      },
      "text/plain": [
       "VBox(children=(HTML(value='<center> <img\\nsrc=https://huggingface.co/front/assets/huggingface_logo-noborder.sv…"
      ]
     },
     "metadata": {},
     "output_type": "display_data"
    }
   ],
   "source": [
    "# Login (solo la primera vez)\n",
    "from huggingface_hub import notebook_login\n",
    "\n",
    "notebook_login()  # Te pedirá tu token"
   ]
  },
  {
   "cell_type": "code",
   "execution_count": 5,
   "id": "ec4011a4",
   "metadata": {},
   "outputs": [
    {
     "data": {
      "application/vnd.jupyter.widget-view+json": {
       "model_id": "c24dbf249c084fa8b1af3ab183f4810a",
       "version_major": 2,
       "version_minor": 0
      },
      "text/plain": [
       "Uploading the dataset shards:   0%|          | 0/1 [00:00<?, ?it/s]"
      ]
     },
     "metadata": {},
     "output_type": "display_data"
    },
    {
     "data": {
      "application/vnd.jupyter.widget-view+json": {
       "model_id": "61643a6d211643129145e0fa1ba7afbd",
       "version_major": 2,
       "version_minor": 0
      },
      "text/plain": [
       "Creating parquet from Arrow format:   0%|          | 0/1 [00:00<?, ?ba/s]"
      ]
     },
     "metadata": {},
     "output_type": "display_data"
    },
    {
     "name": "stdout",
     "output_type": "stream",
     "text": [
      "¡Dataset subido con éxito!\n"
     ]
    }
   ],
   "source": [
    "# Subir a HF\n",
    "dataset.push_to_hub(\"leonidasmv/es-prehistoric-animals-tutor-dataset\")\n",
    "\n",
    "print(\"¡Dataset subido con éxito!\")"
   ]
  }
 ],
 "metadata": {
  "kernelspec": {
   "display_name": "env",
   "language": "python",
   "name": "python3"
  },
  "language_info": {
   "codemirror_mode": {
    "name": "ipython",
    "version": 3
   },
   "file_extension": ".py",
   "mimetype": "text/x-python",
   "name": "python",
   "nbconvert_exporter": "python",
   "pygments_lexer": "ipython3",
   "version": "3.11.9"
  }
 },
 "nbformat": 4,
 "nbformat_minor": 5
}
